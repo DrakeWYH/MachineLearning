{
 "cells": [
  {
   "cell_type": "code",
   "execution_count": 4,
   "metadata": {},
   "outputs": [],
   "source": [
    "import numpy as np"
   ]
  },
  {
   "cell_type": "code",
   "execution_count": 19,
   "metadata": {},
   "outputs": [],
   "source": [
    "def dis_seg_seg(a1, a2, b1, b2):\n",
    "    u = a2 - a1\n",
    "    v = b2 - b1\n",
    "    w0 = a1 - b1\n",
    "    a = u.dot(u)\n",
    "    b = u.dot(v)\n",
    "    c = v.dot(v)\n",
    "    d = u.dot(w0)\n",
    "    e = v.dot(w0)\n",
    "    delta = a * c - b * b\n",
    "    if delta == 0:\n",
    "        dist = np.sqrt(w0.dot(w0) - \n",
    "                       pow(w0.dot(v), 2) / v.dot(v))\n",
    "        return dist\n",
    "    lambda1 = (b * e - c * d) / delta\n",
    "    lambda2 = (a * e - b * d) / delta\n",
    "    if lambda1 > 1:\n",
    "        lambda1 = 1\n",
    "    elif lambda1 < 0:\n",
    "        lambda1 = 0\n",
    "    if lambda2 > 1:\n",
    "        lambda2 = 1\n",
    "    elif lambda2 < 0:\n",
    "        lambda2 = 0\n",
    "    dist = np.linalg.norm(w0 + lambda1 * u - lambda2 * v)\n",
    "    return dist"
   ]
  },
  {
   "cell_type": "code",
   "execution_count": 25,
   "metadata": {},
   "outputs": [],
   "source": [
    "a1 = np.array([0, 0, 0])\n",
    "a2 = np.array([1, 0, 1])\n",
    "b1 = np.array([1, 0, 0])\n",
    "b2 = np.array([2, 0, 1])\n"
   ]
  },
  {
   "cell_type": "code",
   "execution_count": 26,
   "metadata": {},
   "outputs": [
    {
     "data": {
      "text/plain": [
       "0.7071067811865476"
      ]
     },
     "execution_count": 26,
     "metadata": {},
     "output_type": "execute_result"
    }
   ],
   "source": [
    "dis_seg_seg(a1, a2, b1, b2)"
   ]
  },
  {
   "cell_type": "code",
   "execution_count": null,
   "metadata": {},
   "outputs": [],
   "source": []
  }
 ],
 "metadata": {
  "kernelspec": {
   "display_name": "Python 3",
   "language": "python",
   "name": "python3"
  },
  "language_info": {
   "codemirror_mode": {
    "name": "ipython",
    "version": 3
   },
   "file_extension": ".py",
   "mimetype": "text/x-python",
   "name": "python",
   "nbconvert_exporter": "python",
   "pygments_lexer": "ipython3",
   "version": "3.7.3"
  }
 },
 "nbformat": 4,
 "nbformat_minor": 2
}
