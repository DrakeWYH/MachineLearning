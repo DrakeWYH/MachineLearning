{
 "cells": [
  {
   "cell_type": "code",
   "execution_count": 1,
   "metadata": {},
   "outputs": [],
   "source": [
    "import gym\n",
    "import numpy as np\n",
    "\n",
    "from keras.layers import Dense, Softmax\n",
    "from keras.models import Sequential\n",
    "\n",
    "env = gym.make('MountainCar-v0')\n",
    "print(env.observation_space)\n",
    "print(env.action_space)\n",
    "n_features = env.observation_space.shape[0]\n",
    "n_actions = env.action_space.n"
   ]
  },
  {
   "cell_type": "code",
   "execution_count": null,
   "metadata": {},
   "outputs": [],
   "source": [
    "class DeepQNetwork:\n",
    "    def __init__(self, \n",
    "                 n_actions, \n",
    "                 n_features, \n",
    "                 e_greedy=0.9, \n",
    "                 reward_decay=0.9,\n",
    "                 memory_size=500, \n",
    "                 batch_size=100, \n",
    "                 update_weights=300):\n",
    "        self.n_actions = n_actions\n",
    "        self.n_features = n_features\n",
    "        self.e_greedy = e_greedy\n",
    "        self.reward_decay = reward_decay\n",
    "        self.memory_size = memory_size\n",
    "        self.batch_size = batch_size\n",
    "        self.update_weights = update_weights\n",
    "        \n",
    "        self.eval_model = self._build_model()\n",
    "        self.target_model = self._build_model()\n",
    "        \n",
    "        self.memory = np.zeros([self.memory_size, 2 * self.n_features + 2])\n",
    "        self.memory_counter = 0\n",
    "        self.learn_counter = 0\n",
    "    \n",
    "    def _build_model(self):\n",
    "        model = Sequential()\n",
    "        model.add(Dense(10, input_shape=(self.n_features,), activation='relu'))\n",
    "        model.add(Dense(self.n_actions))\n",
    "        model.compile(optimizer='adam', loss='mse')\n",
    "        return model\n",
    "\n",
    "    def choose_action(self, obs):\n",
    "        if np.random.uniform() < self.e_greedy:\n",
    "            obs = obs[np.newaxis, :]\n",
    "            action_values = self.eval_model.predict(obs)\n",
    "            action = np.argmax(action_values)\n",
    "        else:\n",
    "            action = np.random.randint(0, self.n_actions)\n",
    "        return action\n",
    "\n",
    "    def store_transition(self, s, a, r, s_):\n",
    "        transition = np.hstack((s, [a, r], s_))\n",
    "        self.memory[self.memory_counter % self.memory_size] = transition\n",
    "        self.memory_counter += 1\n",
    "\n",
    "    def model_train(self):\n",
    "        self.learn_counter += 1\n",
    "        if self.learn_counter % self.update_weights == 0:\n",
    "            print(\"Update weights!\")\n",
    "            self.target_model.set_weights(self.eval_model.get_weights())\n",
    "\n",
    "        if self.memory_counter > self.memory_size:\n",
    "            sample_index = np.random.choice(self.memory_size, self.batch_size)\n",
    "        else:\n",
    "            sample_index = np.random.choice(self.memory_counter, self.batch_size)\n",
    "        batch_memory = self.memory[sample_index, :]\n",
    "\n",
    "        s = batch_memory[:, :self.n_features]\n",
    "        s_ = batch_memory[:, -self.n_features:]\n",
    "        actions = batch_memory[:, self.n_features].astype(int)\n",
    "        rewards = batch_memory[:, self.n_features+1]\n",
    "        q_eval = self.eval_model.predict(s)\n",
    "        q_next = self.target_model.predict(s_)\n",
    "\n",
    "        q_target = q_eval.copy()\n",
    "        batch_index = np.arange(self.batch_size, dtype=np.int32)\n",
    "        q_target[batch_index, actions] = rewards + self.reward_decay * np.max(q_next, axis=1)\n",
    "\n",
    "        self.eval_model.fit(s, q_target, verbose=0)\n",
    "\n",
    "    def save(self, model_path):\n",
    "        self.eval_model.save(model_path)"
   ]
  },
  {
   "cell_type": "code",
   "execution_count": 47,
   "metadata": {
    "scrolled": false
   },
   "outputs": [
    {
     "name": "stdout",
     "output_type": "stream",
     "text": [
      "Game win!\n",
      "Game win!\n",
      "Update weights!\n",
      "Game win!\n",
      "Update weights!\n",
      "Game win!\n",
      "Update weights!\n",
      "Game win!\n",
      "Game win!\n",
      "Update weights!\n",
      "Game win!\n",
      "Update weights!\n",
      "Update weights!\n",
      "Game win!\n",
      "Game win!\n",
      "Update weights!\n",
      "Game win!\n"
     ]
    }
   ],
   "source": [
    "dqn = DeepQNetwork(n_actions, n_features, batch_size=50, update_weights=200)\n",
    "total_step = 0\n",
    "total_round = 10\n",
    "for i in range(total_round):\n",
    "    obs = env.reset()\n",
    "    step = 0\n",
    "    while(True):\n",
    "        env.render()\n",
    "        action = dqn.choose_action(obs)\n",
    "        obs_, reward, done, info = env.step(action)\n",
    "        \n",
    "        pos, vel = obs_\n",
    "        reward = 1 / (0.5 - pos) + abs(vel)\n",
    "        \n",
    "        dqn.store_transition(obs, action, reward, obs_)\n",
    "        \n",
    "        if total_step > 200:\n",
    "            dqn.model_train()\n",
    "        \n",
    "        if done:\n",
    "            print(\"Game win!\")\n",
    "            break\n",
    "        \n",
    "        obs = obs_\n",
    "        total_step += 1\n",
    "env.close()"
   ]
  },
  {
   "cell_type": "code",
   "execution_count": 36,
   "metadata": {},
   "outputs": [],
   "source": [
    "env.close()"
   ]
  },
  {
   "cell_type": "code",
   "execution_count": 1,
   "metadata": {},
   "outputs": [],
   "source": [
    "import numpy as np\n",
    "import gym\n",
    "from keras.models import load_model\n",
    "\n",
    "model = load_model('model/MountainCarModel')"
   ]
  },
  {
   "cell_type": "code",
   "execution_count": 2,
   "metadata": {},
   "outputs": [
    {
     "name": "stdout",
     "output_type": "stream",
     "text": [
      "Game over!(round 179)\n"
     ]
    }
   ],
   "source": [
    "env = gym.make('MountainCar-v0')\n",
    "n_round = 0\n",
    "obs = env.reset()\n",
    "while(True):\n",
    "    n_round += 1\n",
    "    env.render()\n",
    "    actions_q = model.predict(obs[np.newaxis, :])\n",
    "    action = np.argmax(actions_q)\n",
    "    obs_, reward, done, info = env.step(action)\n",
    "    if done:\n",
    "        print(\"Game over!(round %d)\" % n_round)\n",
    "        break\n",
    "    obs = obs_\n",
    "env.close()"
   ]
  },
  {
   "cell_type": "code",
   "execution_count": null,
   "metadata": {},
   "outputs": [],
   "source": []
  }
 ],
 "metadata": {
  "kernelspec": {
   "display_name": "Python 3",
   "language": "python",
   "name": "python3"
  },
  "language_info": {
   "codemirror_mode": {
    "name": "ipython",
    "version": 3
   },
   "file_extension": ".py",
   "mimetype": "text/x-python",
   "name": "python",
   "nbconvert_exporter": "python",
   "pygments_lexer": "ipython3",
   "version": "3.8.5"
  }
 },
 "nbformat": 4,
 "nbformat_minor": 4
}
