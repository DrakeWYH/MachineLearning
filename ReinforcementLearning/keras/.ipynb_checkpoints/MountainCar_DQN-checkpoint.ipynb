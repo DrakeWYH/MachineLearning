{
 "cells": [
  {
   "cell_type": "code",
   "execution_count": 1,
   "metadata": {},
   "outputs": [],
   "source": [
    "import gym\n",
    "import numpy as np\n",
    "\n",
    "from keras.layers import Dense, Softmax\n",
    "from keras.models import Sequential\n",
    "\n",
    "env = gym.make('MountainCar-v0')\n",
    "print(env.observation_space)\n",
    "print(env.action_space)\n",
    "n_features = env.observation_space.shape[0]\n",
    "n_actions = env.action_space.n"
   ]
  },
  {
   "cell_type": "code",
   "execution_count": 2,
   "metadata": {},
   "outputs": [
    {
     "name": "stdout",
     "output_type": "stream",
     "text": [
      "Discrete(3)\n",
      "Box(-1.2000000476837158, 0.6000000238418579, (2,), float32)\n",
      "[0.6  0.07]\n",
      "[-1.2  -0.07]\n"
     ]
    }
   ],
   "source": [
    "env = gym.make('MountainCar-v0')\n",
    "env = env.unwrapped\n",
    "\n",
    "print(env.action_space)\n",
    "print(env.observation_space)\n",
    "print(env.observation_space.high)\n",
    "print(env.observation_space.low)\n",
    "\n",
    "n_features = env.observation_space.shape[0]\n",
    "n_actions = env.action_space.n\n",
    "\n",
    "dqn = DeepQNetwork(n_actions, n_features, batch_size=50, update_weights=200)"
   ]
  },
  {
   "cell_type": "code",
   "execution_count": 47,
   "metadata": {
    "scrolled": true
   },
   "outputs": [
    {
     "name": "stdout",
     "output_type": "stream",
     "text": [
      "Game win!\n",
      "Game win!\n",
      "Update weights!\n",
      "Game win!\n",
      "Update weights!\n",
      "Game win!\n",
      "Update weights!\n",
      "Game win!\n",
      "Game win!\n",
      "Update weights!\n",
      "Game win!\n",
      "Update weights!\n",
      "Update weights!\n",
      "Game win!\n",
      "Game win!\n",
      "Update weights!\n",
      "Game win!\n"
     ]
    }
   ],
   "source": [
    "total_step = 0\n",
    "total_round = 10\n",
    "for i in range(total_round):\n",
    "    obs = env.reset()\n",
    "    step = 0\n",
    "    while(True):\n",
    "        env.render()\n",
    "        action = dqn.choose_action(obs)\n",
    "        obs_, reward, done, info = env.step(action)\n",
    "        \n",
    "        pos, vel = obs_\n",
    "        reward = 1 / (0.5 - pos) + abs(vel)\n",
    "        \n",
    "        dqn.store_transition(obs, action, reward, obs_)\n",
    "        \n",
    "        if total_step > 200:\n",
    "            dqn.model_train()\n",
    "        \n",
    "        if done:\n",
    "            print(\"Game win!\")\n",
    "            break\n",
    "        \n",
    "        obs = obs_\n",
    "        total_step += 1\n",
    "env.close()"
   ]
  },
  {
   "cell_type": "code",
   "execution_count": 36,
   "metadata": {},
   "outputs": [],
   "source": [
    "env.close()"
   ]
  },
  {
   "cell_type": "code",
   "execution_count": 55,
   "metadata": {},
   "outputs": [
    {
     "name": "stdout",
     "output_type": "stream",
     "text": [
      "Game over!(step 138)\n"
     ]
    }
   ],
   "source": [
    "obs = env.reset()\n",
    "step = 0\n",
    "while(True):\n",
    "    env.render()\n",
    "    action = np.argmax(dqn.eval_model.predict(obs[np.newaxis, :]))\n",
    "    obs, _, done, _ = env.step(action)\n",
    "    if done or step > 300:\n",
    "        print(\"Game over!(step %d)\" % step)\n",
    "        break\n",
    "    step += 1\n",
    "env.close()\n",
    "        "
   ]
  },
  {
   "cell_type": "code",
   "execution_count": 56,
   "metadata": {},
   "outputs": [
    {
     "name": "stdout",
     "output_type": "stream",
     "text": [
      "WARNING:tensorflow:From /home/wuyuhao/anaconda3/lib/python3.8/site-packages/tensorflow/python/training/tracking/tracking.py:111: Model.state_updates (from tensorflow.python.keras.engine.training) is deprecated and will be removed in a future version.\n",
      "Instructions for updating:\n",
      "This property should not be used in TensorFlow 2.0, as updates are applied automatically.\n",
      "WARNING:tensorflow:From /home/wuyuhao/anaconda3/lib/python3.8/site-packages/tensorflow/python/training/tracking/tracking.py:111: Layer.updates (from tensorflow.python.keras.engine.base_layer) is deprecated and will be removed in a future version.\n",
      "Instructions for updating:\n",
      "This property should not be used in TensorFlow 2.0, as updates are applied automatically.\n",
      "INFO:tensorflow:Assets written to: model/MountainCarModel/assets\n"
     ]
    }
   ],
   "source": [
    "dqn.save('model/MountainCarModel')"
   ]
  },
  {
   "cell_type": "code",
   "execution_count": null,
   "metadata": {},
   "outputs": [],
   "source": []
  }
 ],
 "metadata": {
  "kernelspec": {
   "display_name": "Python 3",
   "language": "python",
   "name": "python3"
  },
  "language_info": {
   "codemirror_mode": {
    "name": "ipython",
    "version": 3
   },
   "file_extension": ".py",
   "mimetype": "text/x-python",
   "name": "python",
   "nbconvert_exporter": "python",
   "pygments_lexer": "ipython3",
   "version": "3.8.5"
  }
 },
 "nbformat": 4,
 "nbformat_minor": 4
}
