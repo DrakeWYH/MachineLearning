{
 "cells": [
  {
   "cell_type": "code",
   "execution_count": 2,
   "metadata": {},
   "outputs": [],
   "source": [
    "import numpy as np\n",
    "from keras.layers import Dense, Softmax\n",
    "from keras.models import Sequential"
   ]
  },
  {
   "cell_type": "code",
   "execution_count": null,
   "metadata": {},
   "outputs": [],
   "source": [
    "class PolicyGradient:\n",
    "    def __init__(self, n_actions, n_features, learning_rate=0.01, reward_decay=0.95):\n",
    "        self.n_actions = n_actions\n",
    "        self.n_features = n_features\n",
    "        self.lr = learning_rate\n",
    "        self.gamma = reward_decay\n",
    "        \n",
    "        self.ep_obs, self.ep_as, self.ep_rs = [], [], []\n",
    "        self._build_net()\n",
    "        \n",
    "    def _build_net():\n",
    "        model = Sequential()\n",
    "        model.add(Dense(10, input_shape=(n_features, ), activation='tanh'))\n",
    "        model.add(Dense(n_actions, activation='softmax'))\n",
    "        model.compile(optimizer='adam', loss='categorical_crossentropy')\n",
    "        self.model = model\n",
    "    \n",
    "    def choose_action(self, obs):\n",
    "        prob_weights = self.model.predict(obs[np.newaxis, :])\n",
    "        action = np.random.choice(range(prob_weights.shape[1]), p=prob_weights.ravel())\n",
    "        return action\n",
    "    \n",
    "    def store_transition(self, s, a, r):\n",
    "        self.ep_obs.append(s)\n",
    "        self.ep_as.append(a)\n",
    "        self.ep_rs.append(r)\n",
    "        \n",
    "    def learn(self):\n",
    "        "
   ]
  }
 ],
 "metadata": {
  "kernelspec": {
   "display_name": "Python 3",
   "language": "python",
   "name": "python3"
  },
  "language_info": {
   "codemirror_mode": {
    "name": "ipython",
    "version": 3
   },
   "file_extension": ".py",
   "mimetype": "text/x-python",
   "name": "python",
   "nbconvert_exporter": "python",
   "pygments_lexer": "ipython3",
   "version": "3.8.5"
  }
 },
 "nbformat": 4,
 "nbformat_minor": 4
}
