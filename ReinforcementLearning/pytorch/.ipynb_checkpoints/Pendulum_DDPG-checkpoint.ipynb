{
 "cells": [
  {
   "cell_type": "code",
   "execution_count": 1,
   "metadata": {},
   "outputs": [
    {
     "name": "stdout",
     "output_type": "stream",
     "text": [
      "Box(-8.0, 8.0, (3,), float32)\n",
      "Box(-2.0, 2.0, (1,), float32)\n"
     ]
    }
   ],
   "source": [
    "import torch\n",
    "import torchvision\n",
    "import numpy as np\n",
    "import gym\n",
    "\n",
    "env = gym.make('Pendulum-v0')\n",
    "print(env.observation_space)\n",
    "print(env.action_space)\n",
    "\n",
    "n_features = env.observation_space.shape[0]\n",
    "action_dim = env.action_space.shape[0]\n",
    "action_bound = env.action_space.high\n",
    "n_hidden = 10\n",
    "# print('obs:%d, hidden:%d, act:%d' % (n_features, n_hidden, n_actions))"
   ]
  },
  {
   "cell_type": "code",
   "execution_count": null,
   "metadata": {},
   "outputs": [],
   "source": [
    "class DDPGNetwork:\n",
    "    def __init__(self, a_dim, s_dim, a_bound):\n",
    "        self.memory = np.zeros((memory_size, s_dim * 2 + a_dim + 1), dtype=np.float32)\n",
    "        self.pointer = 0\n",
    "        \n",
    "    def _build_a(self, s):\n",
    "        net = torch.nn.Sequential(\n",
    "            torch.nn.Linear(s, 30),\n",
    "            torch.nn.ReLU(),\n",
    "            torch.nn.Linear(30, self.a_dim),\n",
    "            torch.nn.Tanh()\n",
    "        )\n",
    "        net = net * a_bound\n",
    "        return net\n",
    "    \n",
    "    def _build_c(self, s, a, trainable):\n",
    "        net = torch.nn.Sequential(\n",
    "            torch.nn.Linear(s + a, 30),\n",
    "            torch.nn.ReLU(),\n",
    "            torch.nn.Linear(30, 1)\n",
    "        )\n",
    "        \n",
    "    def choose_action(self, s):\n",
    "        pass\n",
    "    \n",
    "    def store_transition(s, a, r, s_):\n",
    "        pass\n",
    "    \n",
    "    def learn(self):\n",
    "        pass"
   ]
  }
 ],
 "metadata": {
  "kernelspec": {
   "display_name": "Python 3",
   "language": "python",
   "name": "python3"
  },
  "language_info": {
   "codemirror_mode": {
    "name": "ipython",
    "version": 3
   },
   "file_extension": ".py",
   "mimetype": "text/x-python",
   "name": "python",
   "nbconvert_exporter": "python",
   "pygments_lexer": "ipython3",
   "version": "3.8.5"
  }
 },
 "nbformat": 4,
 "nbformat_minor": 4
}
