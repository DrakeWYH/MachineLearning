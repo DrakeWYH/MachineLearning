{
 "cells": [
  {
   "cell_type": "code",
   "execution_count": 1,
   "metadata": {},
   "outputs": [
    {
     "name": "stdout",
     "output_type": "stream",
     "text": [
      "Box(4,)\n",
      "Discrete(2)\n"
     ]
    }
   ],
   "source": [
    "import torch\n",
    "import torchvision\n",
    "import numpy as np\n",
    "import gym\n",
    "\n",
    "env = gym.make('CartPole-v0')\n",
    "print(env.observation_space)\n",
    "print(env.action_space)\n",
    "\n",
    "n_features = env.observation_space.shape[0]\n",
    "n_actions = env.action_space.n\n",
    "n_hidden = 10\n",
    "print('obs:%d, hidden:%d, act:%d' % (n_features, n_hidden, n_actions))"
   ]
  },
  {
   "cell_type": "code",
   "execution_count": 3,
   "metadata": {},
   "outputs": [],
   "source": [
    "class PGNetwork:\n",
    "    def __init__(self, n_features, n_hidden, n_actions, gamma=0.95, learning_rate=0.05):\n",
    "        self.n_features = n_features\n",
    "        self.n_hidden = n_hidden\n",
    "        self.n_actions = n_actions\n",
    "        self.gamma = gamma\n",
    "        \n",
    "        self.obs = []\n",
    "        self.act_probs = []\n",
    "        self.actions = []\n",
    "        self.rs = []\n",
    "        self.net = self._build_net(self.n_features, self.n_hidden, self.n_actions)\n",
    "        \n",
    "        self.opt = torch.optim.Adam(self.net.parameters(), lr=learning_rate)\n",
    "        \n",
    "        self.max_mean = 0\n",
    "        self.max_std = 0\n",
    "        \n",
    "    def _build_net(self, n_features, n_hidden, n_actions):\n",
    "        net = torch.nn.Sequential(\n",
    "            torch.nn.Linear(in_features=n_features, out_features=n_hidden),\n",
    "            torch.nn.Tanh(),\n",
    "            torch.nn.Linear(in_features=n_hidden, out_features=n_actions),\n",
    "            torch.nn.Softmax()\n",
    "        )\n",
    "        return net\n",
    "    \n",
    "    def choose_action(self, obs):\n",
    "        act_prob = self.net(torch.Tensor(obs))\n",
    "        action = torch.multinomial(act_prob, 1)[0]\n",
    "        return act_prob, action\n",
    "        \n",
    "    def add_sample(self, o, ap, a, r):\n",
    "        self.obs.append(o)\n",
    "        self.act_probs.append(ap.view(1, self.n_actions))\n",
    "        self.actions.append(a)\n",
    "        self.rs.append(r)\n",
    "        \n",
    "    def learn(self):\n",
    "        actions_prob = torch.cat(self.act_probs, dim=0)\n",
    "        actions = torch.LongTensor(self.actions)\n",
    "        actions_onehot = torch.nn.functional.one_hot(actions, self.n_actions)\n",
    "        \n",
    "        value = torch.zeros(len(self.rs))\n",
    "        for i in reversed(range(len(self.rs))):\n",
    "            if i == len(self.rs) - 1:\n",
    "                value[i] = self.rs[i]\n",
    "            else:\n",
    "                value[i] = value[i + 1] * self.gamma + self.rs[i]\n",
    "        if torch.mean(value) > self.max_mean:\n",
    "            self.max_mean = torch.mean(value)\n",
    "            self.max_std = torch.std(value)\n",
    "        value -= self.max_mean\n",
    "        value /= self.max_std\n",
    "\n",
    "        neg_log_prob = torch.sum(-torch.log(actions_prob) * actions_onehot, dim=1)\n",
    "        loss = torch.mean(neg_log_prob * value)\n",
    "\n",
    "        self.opt.zero_grad()\n",
    "        loss.backward()\n",
    "        self.opt.step()\n",
    "        \n",
    "        self.obs = []\n",
    "        self.act_probs = []\n",
    "        self.actions = []\n",
    "        self.rs = []\n",
    "    \n",
    "    def save(self, save_name):\n",
    "        torch.save(self.net, save_name)\n",
    "        \n",
    "    def load(self, load_name):\n",
    "        self.net = torch.load(load_name)"
   ]
  },
  {
   "cell_type": "code",
   "execution_count": 6,
   "metadata": {},
   "outputs": [
    {
     "name": "stdout",
     "output_type": "stream",
     "text": [
      "300 / 300:■■■■■■■■■■■■■■■■■■■■"
     ]
    }
   ],
   "source": [
    "pgn = PGNetwork(n_features, n_hidden, n_actions)\n",
    "eps = 300\n",
    "for ep in range(eps):\n",
    "    obs = env.reset()\n",
    "    while True:\n",
    "        env.render()\n",
    "        act_prob, action = pgn.choose_action(obs)\n",
    "        obs_, _, done, _ = env.step(action.numpy())\n",
    "        x, x_dot, theta, theta_dot = obs_\n",
    "        r1 = (env.x_threshold - abs(x))/env.x_threshold\n",
    "        r2 = (env.theta_threshold_radians - abs(theta))/env.theta_threshold_radians\n",
    "        r = r1 + r2\n",
    "\n",
    "        pgn.add_sample(obs, act_prob, action, r)\n",
    "        if done:\n",
    "            break\n",
    "        obs = obs_\n",
    "    pgn.learn()\n",
    "    \n",
    "    percent = (ep + 1) / eps\n",
    "    print('\\r%d / %d:' % (ep + 1, eps) + '■' * int(20 * percent) + '□' * (20 - int(20 * percent)), end='', flush = True)\n",
    "env.close()"
   ]
  },
  {
   "cell_type": "code",
   "execution_count": 5,
   "metadata": {},
   "outputs": [],
   "source": [
    "env.close()"
   ]
  },
  {
   "cell_type": "code",
   "execution_count": 1,
   "metadata": {},
   "outputs": [],
   "source": [
    "import numpy as np\n",
    "import gym\n",
    "import torch\n",
    "\n",
    "env = gym.make('CartPole-v0')\n",
    "model = torch.load('./model/PolicyGradient.pkl')\n",
    "\n",
    "for i in range(10):\n",
    "    step = 0\n",
    "    obs = env.reset()\n",
    "    while(True):\n",
    "        env.render()\n",
    "        act = torch.argmax(model(torch.Tensor(obs)))\n",
    "        obs, _, done, _ = env.step(act.numpy())\n",
    "        step += 1\n",
    "        if done:\n",
    "            print('Total steps:', step)\n",
    "            break\n",
    "env.close()"
   ]
  },
  {
   "cell_type": "code",
   "execution_count": null,
   "metadata": {},
   "outputs": [],
   "source": []
  }
 ],
 "metadata": {
  "kernelspec": {
   "display_name": "Python 3",
   "language": "python",
   "name": "python3"
  },
  "language_info": {
   "codemirror_mode": {
    "name": "ipython",
    "version": 3
   },
   "file_extension": ".py",
   "mimetype": "text/x-python",
   "name": "python",
   "nbconvert_exporter": "python",
   "pygments_lexer": "ipython3",
   "version": "3.8.5"
  }
 },
 "nbformat": 4,
 "nbformat_minor": 4
}
