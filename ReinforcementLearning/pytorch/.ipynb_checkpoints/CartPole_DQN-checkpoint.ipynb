{
 "cells": [
  {
   "cell_type": "code",
   "execution_count": 10,
   "metadata": {},
   "outputs": [
    {
     "name": "stdout",
     "output_type": "stream",
     "text": [
      "Box(-3.4028234663852886e+38, 3.4028234663852886e+38, (4,), float32)\n",
      "Discrete(2)\n",
      "obs:4, hidden:10, act:2\n"
     ]
    }
   ],
   "source": [
    "import torch\n",
    "import torchvision\n",
    "import numpy as np\n",
    "import gym\n",
    "\n",
    "env = gym.make('CartPole-v0')\n",
    "print(env.observation_space)\n",
    "print(env.action_space)\n",
    "\n",
    "n_features = env.observation_space.shape[0]\n",
    "n_actions = env.action_space.n\n",
    "n_hidden = 10\n",
    "print('obs:%d, hidden:%d, act:%d' % (n_features, n_hidden, n_actions))"
   ]
  },
  {
   "cell_type": "code",
   "execution_count": 11,
   "metadata": {},
   "outputs": [],
   "source": [
    "class DQNetwork:\n",
    "    def __init__(self, n_features, n_hidden, n_actions, gamma=0.9, epsilon_max=0.9, epsilon_increase=0, memory_size=500, batch_size=32, learning_rate=0.05):\n",
    "        self.n_features = n_features\n",
    "        self.n_hidden = n_hidden\n",
    "        self.n_actions = n_actions\n",
    "        self.gamma = gamma\n",
    "        self.epsilon_max = epsilon_max\n",
    "        self.epsilon_increase = epsilon_increase\n",
    "        if self.epsilon_increase == 0:\n",
    "            self.epsilon = self.epsilon_max\n",
    "        else:\n",
    "            self.epsilon = 0\n",
    "        self.memory_size = memory_size\n",
    "        self.memory = torch.zeros([memory_size, n_features * 2 + 2])\n",
    "        self.batch_size = batch_size\n",
    "        \n",
    "        self.memory_count = 0\n",
    "        self.learn_count = 0\n",
    "        \n",
    "        self.net_eval = self._build_net(self.n_features, self.n_hidden, self.n_actions)\n",
    "        self.net_target = self._build_net(self.n_features, self.n_hidden, self.n_actions)\n",
    "        self.net_target.requires_grad_(False)\n",
    "        \n",
    "        self.opt = torch.optim.Adam(self.net_eval.parameters(), lr=learning_rate)\n",
    "        \n",
    "    def _build_net(self, n_features, n_hidden, n_actions):\n",
    "        net = torch.nn.Sequential(\n",
    "            torch.nn.Linear(n_features, n_hidden),\n",
    "            torch.nn.ReLU(),\n",
    "            torch.nn.Linear(n_hidden, n_actions)\n",
    "        )\n",
    "        return net\n",
    "    \n",
    "    def choose_action(self, obs):\n",
    "        if torch.rand(1) < self.epsilon:\n",
    "            action = torch.argmax(self.net_eval(torch.Tensor(obs)))\n",
    "        else:\n",
    "            action = torch.randint(self.n_actions, (1,))[0]\n",
    "        return action\n",
    "    \n",
    "    def save_memory(self, o, a, r, o_):\n",
    "        sample = torch.cat((torch.Tensor(o), torch.Tensor([a, r]), torch.Tensor(o_)), dim=0)\n",
    "        self.memory[self.memory_count % self.memory_size, :] = sample\n",
    "        self.memory_count += 1\n",
    "        \n",
    "    def learn(self):\n",
    "        if self.learn_count % 300:\n",
    "            self.net_target.load_state_dict(self.net_eval.state_dict())\n",
    "        if self.memory_count < self.memory_size:\n",
    "            batch = self.memory[torch.randint(self.memory_count, (self.batch_size, ))]\n",
    "        else:\n",
    "            batch = self.memory[torch.randint(self.memory_size, (self.batch_size, ))]\n",
    "        q_eval = self.net_eval(batch[:, :self.n_features])\n",
    "        q_next = self.net_target(batch[:, -self.n_features:])\n",
    "        q_target = q_eval.clone()\n",
    "        action = batch[:, self.n_features].type(torch.int64)\n",
    "        reward = batch[:, self.n_features + 1]\n",
    "\n",
    "        q_target[torch.arange(self.batch_size), action] = reward + q_next.max(dim=1)[0] * self.gamma\n",
    "\n",
    "        self.opt.zero_grad()\n",
    "        loss = torch.nn.MSELoss()\n",
    "        output = loss(q_eval, q_target)\n",
    "        output.backward()\n",
    "        self.opt.step()\n",
    "\n",
    "        if self.epsilon < self.epsilon_max:\n",
    "            self.epsilon += self.epsilon_increase\n",
    "        self.learn_count += 1\n",
    "    \n",
    "    def save(self, save_name):\n",
    "        torch.save(self.net_eval, save_name)\n",
    "        \n",
    "    def load(self, load_name):\n",
    "        self.net_eval = torch.load(load_name)\n",
    "        self.net_target = torch.load(load_name)"
   ]
  },
  {
   "cell_type": "code",
   "execution_count": null,
   "metadata": {
    "scrolled": true
   },
   "outputs": [
    {
     "name": "stdout",
     "output_type": "stream",
     "text": [
      "120 / 300:■■■■■■■■□□□□□□□□□□□□"
     ]
    }
   ],
   "source": [
    "dqn = DQNetwork(n_features, n_hidden, n_actions, batch_size=100, epsilon_increase=0.005)\n",
    "eps = 300\n",
    "step = 0\n",
    "for ep in range(eps):\n",
    "    obs = env.reset()\n",
    "    while(True):\n",
    "        step += 1\n",
    "        env.render()\n",
    "        act = dqn.choose_action(obs)\n",
    "        obs_, _, done, _ = env.step(act.numpy())\n",
    "        \n",
    "        # 计算奖励\n",
    "        x, x_dot, theta, theta_dot = obs_\n",
    "        r1 = (env.x_threshold - abs(x))/env.x_threshold - 0.8\n",
    "        r2 = (env.theta_threshold_radians - abs(theta))/env.theta_threshold_radians - 0.8\n",
    "        r = r1 + r2\n",
    "        \n",
    "        dqn.save_memory(obs, act, r, obs_)\n",
    "        if step > 200 and step % 5 == 0:\n",
    "            dqn.learn()\n",
    "        if done:\n",
    "            break\n",
    "        obs = obs_\n",
    "        \n",
    "    percent = (ep + 1) / eps\n",
    "    print('\\r%d / %d:' % (ep + 1, eps) + '■' * int(20 * percent) + '□' * (20 - int(20 * percent)), end='', flush = True)\n",
    "env.close()"
   ]
  },
  {
   "cell_type": "code",
   "execution_count": 1,
   "metadata": {},
   "outputs": [],
   "source": [
    "import numpy as np\n",
    "import gym\n",
    "import torch\n",
    "\n",
    "env = gym.make('CartPole-v0')\n",
    "model = torch.load('./model/DeepQNetwork.pkl')\n",
    "\n",
    "for i in range(10):\n",
    "    step = 0\n",
    "    obs = env.reset()\n",
    "    while(True):\n",
    "        env.render()\n",
    "        act = torch.argmax(model(torch.Tensor(obs)))\n",
    "        obs, _, done, _ = env.step(act.numpy())\n",
    "        step += 1\n",
    "        if done:\n",
    "            print('Total steps:', step)\n",
    "            break\n",
    "env.close()"
   ]
  },
  {
   "cell_type": "code",
   "execution_count": null,
   "metadata": {},
   "outputs": [],
   "source": []
  }
 ],
 "metadata": {
  "kernelspec": {
   "display_name": "Python 3",
   "language": "python",
   "name": "python3"
  },
  "language_info": {
   "codemirror_mode": {
    "name": "ipython",
    "version": 3
   },
   "file_extension": ".py",
   "mimetype": "text/x-python",
   "name": "python",
   "nbconvert_exporter": "python",
   "pygments_lexer": "ipython3",
   "version": "3.8.5"
  }
 },
 "nbformat": 4,
 "nbformat_minor": 4
}
