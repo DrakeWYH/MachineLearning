{
 "cells": [
  {
   "cell_type": "code",
   "execution_count": 1,
   "metadata": {},
   "outputs": [
    {
     "name": "stdout",
     "output_type": "stream",
     "text": [
      "Box(-8.0, 8.0, (3,), float32)\n",
      "Box(-2.0, 2.0, (1,), float32)\n",
      "n_features: 3 n_actions: 1 b_actions: 2.0\n",
      "True\n"
     ]
    }
   ],
   "source": [
    "import torch\n",
    "import torch.nn as nn\n",
    "import torchvision\n",
    "import numpy as np\n",
    "import gym\n",
    "\n",
    "env = gym.make('Pendulum-v0')\n",
    "print(env.observation_space)\n",
    "print(env.action_space)\n",
    "\n",
    "n_features = env.observation_space.shape[0]\n",
    "n_actions = env.action_space.shape[0]\n",
    "b_actions = env.action_space.high[0]\n",
    "n_hiddens = 30\n",
    "\n",
    "print(\"n_features:\", n_features, \"n_actions:\", n_actions, \"b_actions:\", b_actions)\n",
    "print(torch.cuda.is_available())"
   ]
  },
  {
   "cell_type": "code",
   "execution_count": null,
   "metadata": {},
   "outputs": [],
   "source": [
    "class Actor(torch.nn.Module):\n",
    "    def __init__(self, n_features, n_hiddens, n_actions, b_actions):\n",
    "        super().__init__()\n",
    "        self.n_features = n_features\n",
    "        self.n_hiddens = n_hiddens\n",
    "        self.n_actions = n_actions\n",
    "        self.b_actions = b_actions\n",
    "\n",
    "        self.fc1 = torch.nn.Linear(n_features, n_hiddens)\n",
    "        self.fc2 = torch.nn.Linear(n_hiddens, n_actions)\n",
    "        self.relu = torch.nn.ReLU()\n",
    "        self.tanh = torch.nn.Tanh()\n",
    "\n",
    "    def forward(self, x):\n",
    "        assert len(x.shape) == 2\n",
    "        assert x.shape[-1] == self.n_features\n",
    "\n",
    "        x = self.relu(self.fc1(x))\n",
    "        x = self.tanh(self.fc2(x))\n",
    "        x = x * self.b_actions\n",
    "        return x\n",
    "\n",
    "class Critic(torch.nn.Module):\n",
    "    def __init__(self, n_features, n_actions, n_hiddens):\n",
    "        super().__init__()\n",
    "        self.n_features = n_features\n",
    "        self.n_actions = n_actions\n",
    "        self.n_hiddens = n_hiddens\n",
    "\n",
    "        self.fc_s = torch.nn.Linear(n_features, n_hiddens)\n",
    "        self.fc_a = torch.nn.Linear(n_actions, n_hiddens)\n",
    "        self.fc = torch.nn.Linear(n_hiddens, 1)\n",
    "        self.relu = torch.nn.ReLU()\n",
    "\n",
    "    def forward(self, s, a):\n",
    "        assert len(s.shape) == 2\n",
    "        assert len(a.shape) == 2\n",
    "        assert s.shape[-1] == self.n_features\n",
    "        assert a.shape[-1] == self.n_actions\n",
    "        assert s.shape[0] == a.shape[0]\n",
    "\n",
    "        s = self.fc_s(s)\n",
    "        a = self.fc_a(a)\n",
    "        x = self.fc(self.relu(s + a))\n",
    "        return x\n",
    "    \n",
    "class A3C:\n",
    "    def __init__(self)"
   ]
  }
 ],
 "metadata": {
  "kernelspec": {
   "display_name": "Python 3",
   "language": "python",
   "name": "python3"
  },
  "language_info": {
   "codemirror_mode": {
    "name": "ipython",
    "version": 3
   },
   "file_extension": ".py",
   "mimetype": "text/x-python",
   "name": "python",
   "nbconvert_exporter": "python",
   "pygments_lexer": "ipython3",
   "version": "3.8.5"
  }
 },
 "nbformat": 4,
 "nbformat_minor": 4
}
